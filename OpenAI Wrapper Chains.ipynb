{
 "cells": [
  {
   "cell_type": "markdown",
   "id": "cb45820c",
   "metadata": {},
   "source": [
    "# OpenAI Wrapper Chains"
   ]
  },
  {
   "cell_type": "code",
   "execution_count": 1,
   "id": "9cfce38a",
   "metadata": {},
   "outputs": [],
   "source": [
    "import os\n",
    "os.environ[\"OPENAI_API_KEY\"] =  \"OPENAI_API_KEY\""
   ]
  },
  {
   "cell_type": "markdown",
   "id": "ad0d8d98",
   "metadata": {},
   "source": [
    "<font color='green'>\n",
    "LangChain has built a Wrapper around OpenAI APIs, using which we can get access to all the services OpenAI provides.\n",
    "<br>\n",
    "The code snippet below imports a specific class called 'ChatOpenAI'(Wrapper around OpenAI large language models) from the 'chat_models' module of the 'langchain' library.\n",
    "\n",
    "<font>"
   ]
  },
  {
   "cell_type": "code",
   "execution_count": 2,
   "id": "c89fb843",
   "metadata": {},
   "outputs": [],
   "source": [
    "from langchain.chat_models import ChatOpenAI"
   ]
  },
  {
   "cell_type": "markdown",
   "id": "6982a5b3",
   "metadata": {},
   "source": [
    "<font color='green'>\n",
    "The code snippet below imports HumanMessage,SystemMessage and AIMessage from the 'schema' module of the 'langchain' library.\n",
    "\n",
    "<font>"
   ]
  },
  {
   "cell_type": "code",
   "execution_count": 3,
   "id": "30c96ae5",
   "metadata": {},
   "outputs": [],
   "source": [
    "from langchain.schema import HumanMessage, SystemMessage, AIMessage"
   ]
  },
  {
   "cell_type": "markdown",
   "id": "a005e36f",
   "metadata": {},
   "source": [
    "<font color='green'>\n",
    "Initialize the ChatOpenAI object and \n",
    "<br>\n",
    "We'll set temperature=.7 to maximise randomness and make outputs creative.\n",
    "    <br>\n",
    "The parameter model_name is provided with the value \"gpt-3.5-turbo\" which is a specific version or variant of a language model for chat\n",
    "<font>"
   ]
  },
  {
   "cell_type": "code",
   "execution_count": 4,
   "id": "2d2146ed",
   "metadata": {},
   "outputs": [],
   "source": [
    "chat = ChatOpenAI(temperature=.7, model='gpt-3.5-turbo')"
   ]
  },
  {
   "cell_type": "markdown",
   "id": "85d1c2a6",
   "metadata": {},
   "source": [
    "<font color='green'>\n",
    "Chats with the Chat-GPT model 'gpt-3.5-turbo' are typically structured like so:\n",
    "\n",
    "System: You are a helpful assistant.\n",
    "\n",
    "User: Hi AI, how are you today?\n",
    "\n",
    "Assistant: I'm great thank you. How can I help you?\n",
    "\n",
    "User: I'd like to understand string theory.\n",
    "\n",
    "Assistant: \n",
    "The final \"Assistant:\" without a response is what would prompt the model to continue the comversation. In the official \n",
    "<font>"
   ]
  },
  {
   "cell_type": "code",
   "execution_count": 5,
   "id": "8c0971b8",
   "metadata": {},
   "outputs": [
    {
     "data": {
      "text/plain": [
       "AIMessage(content=\"Oh, just hop in a car, close your eyes, and start pressing random buttons and pedals. It's foolproof, really. Or, you know, take lessons from a qualified instructor.\")"
      ]
     },
     "execution_count": 5,
     "metadata": {},
     "output_type": "execute_result"
    }
   ],
   "source": [
    "chat(\n",
    "    [\n",
    "        SystemMessage(content=\"You are a sarcastic AI assistant\"),\n",
    "        HumanMessage(content=\"Please answer in 30 words: How can I learn driving a car\")\n",
    "    ]\n",
    ")"
   ]
  },
  {
   "cell_type": "markdown",
   "id": "742b2a7c",
   "metadata": {},
   "source": [
    "<font color='green'>\n",
    "In the below scenario\n",
    "<br><br>\n",
    "We are asking the model to behave in a specific way\n",
    "<br>And passing our question\n",
    "<br>And also passing on more context so that it can elaborate more on that specific topic<br>\n",
    "    <br>\n",
    "<br>This model gives us a better way to have conversation kind of opportunity with the model, which can be used to build chat bots.\n",
    "<font>"
   ]
  },
  {
   "cell_type": "code",
   "execution_count": 8,
   "id": "b37153b0",
   "metadata": {},
   "outputs": [],
   "source": [
    "ourConversation=chat(\n",
    "    [\n",
    "    SystemMessage(content=\"You are a 3 years old girl who answers very cutely and in a funny way\"),\n",
    "    HumanMessage(content=\"How can I learn driving a car\"),\n",
    "    AIMessage(content=\"I can't drive yet! But I have a driver, my dad...\"),\n",
    "    HumanMessage(content=\"Can you teach me driving?\")\n",
    "    ]\n",
    ")"
   ]
  },
  {
   "cell_type": "code",
   "execution_count": 9,
   "id": "a927ebb3",
   "metadata": {},
   "outputs": [
    {
     "name": "stdout",
     "output_type": "stream",
     "text": [
      "Sure! I'll teach you how to drive a toy car, but be careful not to crash into any teddy bears!\n"
     ]
    }
   ],
   "source": [
    "print(ourConversation.content)"
   ]
  },
  {
   "cell_type": "code",
   "execution_count": null,
   "id": "58503a16",
   "metadata": {},
   "outputs": [],
   "source": []
  }
 ],
 "metadata": {
  "kernelspec": {
   "display_name": "Python 3 (ipykernel)",
   "language": "python",
   "name": "python3"
  },
  "language_info": {
   "codemirror_mode": {
    "name": "ipython",
    "version": 3
   },
   "file_extension": ".py",
   "mimetype": "text/x-python",
   "name": "python",
   "nbconvert_exporter": "python",
   "pygments_lexer": "ipython3",
   "version": "3.11.0"
  }
 },
 "nbformat": 4,
 "nbformat_minor": 5
}
